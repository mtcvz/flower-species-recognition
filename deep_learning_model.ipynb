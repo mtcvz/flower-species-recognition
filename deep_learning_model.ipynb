{
 "cells": [
  {
   "cell_type": "markdown",
   "metadata": {},
   "source": [
    "## Pre Processing"
   ]
  },
  {
   "cell_type": "code",
   "execution_count": null,
   "metadata": {},
   "outputs": [],
   "source": [
    "from os import makedirs \n",
    "from os import listdir\n",
    "from shutil import copyfile\n",
    "from random import seed\n",
    "from random import random"
   ]
  },
  {
   "cell_type": "code",
   "execution_count": null,
   "metadata": {},
   "outputs": [],
   "source": [
    "dataset_home = 'flowers/'"
   ]
  },
  {
   "cell_type": "code",
   "execution_count": null,
   "metadata": {},
   "outputs": [],
   "source": [
    "subdirs = ['train/','test/']\n",
    "labeldirs = ['daisy/','dandelion/','roses/','sunflowers/','tulips/']"
   ]
  },
  {
   "cell_type": "code",
   "execution_count": null,
   "metadata": {},
   "outputs": [],
   "source": [
    "for subdir in subdirs:\n",
    "    for labldir in labeldirs:\n",
    "        newdir = dataset_home + '/' + subdir + labldir\n",
    "        makedirs(newdir,exist_ok = True)"
   ]
  },
  {
   "cell_type": "code",
   "execution_count": null,
   "metadata": {},
   "outputs": [],
   "source": [
    "seed(1)\n",
    "val_ratio = 0.20"
   ]
  },
  {
   "cell_type": "code",
   "execution_count": null,
   "metadata": {},
   "outputs": [],
   "source": [
    "src_directory = 'flower_photos/'"
   ]
  },
  {
   "cell_type": "code",
   "execution_count": null,
   "metadata": {},
   "outputs": [],
   "source": [
    "for labels in labeldirs:\n",
    "    for file in listdir(src_directory+labels):\n",
    "        src = src_directory + '/' + labels + '/' + file\n",
    "        dst_dir = 'train/'\n",
    "        if random() < val_ratio:\n",
    "            dst_dir = 'test/'\n",
    "        dst = dataset_home + dst_dir + labels + file\n",
    "        copyfile(src,dst)  "
   ]
  },
  {
   "cell_type": "markdown",
   "metadata": {},
   "source": [
    "## Defining Model"
   ]
  },
  {
   "cell_type": "code",
   "execution_count": 1,
   "metadata": {},
   "outputs": [],
   "source": [
    "import sys\n",
    "from matplotlib import pyplot\n",
    "from tensorflow.keras.utils import to_categorical\n",
    "from tensorflow.keras.models import Sequential\n",
    "from tensorflow.keras.layers import Conv2D\n",
    "from tensorflow.keras.layers import MaxPooling2D\n",
    "from tensorflow.keras.layers import Dense\n",
    "from tensorflow.keras.layers import Flatten\n",
    "from tensorflow.keras.optimizers import SGD\n",
    "from tensorflow.keras.preprocessing.image import ImageDataGenerator\n",
    "import tensorflow as tf"
   ]
  },
  {
   "cell_type": "code",
   "execution_count": 2,
   "metadata": {},
   "outputs": [],
   "source": [
    "def summarize_diagnostics(history):\n",
    "    #plot loss\n",
    "    pyplot.subplot(211)\n",
    "    pyplot.title('Cross Entropy Loss')\n",
    "    #blue = train, orange = test\n",
    "    pyplot.plot(history.history['loss'],color='blue',label='train')\n",
    "    pyplot.plot(history.history['val_loss'], color='orange', label='test')\n",
    "    #plot accuracy\n",
    "    pyplot.subplot(212)\n",
    "    pyplot.title('Classification Accuracy')\n",
    "    pyplot.plot(history.history['accuracy'], color='blue', label='train')\n",
    "    pyplot.plot(history.history['val_accuracy'], color='orange', label='test')\n",
    "    pyplot.tight_layout()\n",
    "    #save plot to file\n",
    "    filename = sys.argv[0].split('/')[-1]\n",
    "    pyplot.savefig(filename + '_plot.png')\n",
    "    pyplot.show()\n",
    "    pyplot.close()"
   ]
  },
  {
   "cell_type": "code",
   "execution_count": 3,
   "metadata": {},
   "outputs": [],
   "source": [
    "def define_model_vgg_16():\n",
    "    # load model\n",
    "    model = VGG16(include_top=False,input_shape=(224,224,3))\n",
    "    # mark loaded layers as not trainable\n",
    "    for layer in model.layers:\n",
    "        layer.trainable = False\n",
    "    # add new classifier layers\n",
    "    flat1 = Flatten()(model.layers[-1].output)\n",
    "    class1 = Dense(128,activation='relu',kernel_initializer='he_uniform')(flat1)\n",
    "    output = Dense(5,activation='softmax')(class1)\n",
    "    # define new model\n",
    "    model = Model(inputs=model.inputs, outputs = output)\n",
    "    #compile model\n",
    "    opt = SGD(lr=0.001,momentum=0.9)\n",
    "    model.compile(optimizer=opt,loss='categorical_crossentropy',metrics=['accuracy'])\n",
    "    return model"
   ]
  },
  {
   "cell_type": "code",
   "execution_count": 8,
   "metadata": {},
   "outputs": [],
   "source": [
    "from tensorflow.keras.applications.vgg16 import VGG16\n",
    "from tensorflow.keras.models import Model"
   ]
  },
  {
   "cell_type": "code",
   "execution_count": 4,
   "metadata": {},
   "outputs": [],
   "source": [
    "def run_model_vgg16():\n",
    "    model = define_model_vgg_16()\n",
    "    datagen = ImageDataGenerator(featurewise_center=True)\n",
    "    datagen.mean = [123.68,116.779,103.939]\n",
    "    #prepare train and test iterators\n",
    "    train_it = datagen.flow_from_directory('flowers/train/',\n",
    "                class_mode='categorical',batch_size=64,target_size=(224,224))\n",
    "    test_it = datagen.flow_from_directory('flowers/test/',\n",
    "            class_mode='categorical', batch_size=64, target_size=(224, 224))\n",
    "    #fit model\n",
    "    history = model.fit_generator(train_it,steps_per_epoch=len(train_it),\n",
    "            validation_data=test_it,validation_steps=len(test_it),epochs=10,verbose=1)\n",
    "    #evaluate model\n",
    "    _, acc = model.evaluate_generator(test_it, steps=len(test_it), verbose=0)\n",
    "    print('>%.3f' % (acc*100.0))\n",
    "    #plot of learning curves\n",
    "    summarize_diagnostics(history)\n",
    "    #save model\n",
    "    model.save('flowers_model.h5')\n",
    "    converter = tf.lite.TFLiteConverter.from_keras_model(model)\n",
    "    tflite_model = converter.convert()\n",
    "    open(\"converted_model.tflite\", \"wb\").write(tflite_model)"
   ]
  },
  {
   "cell_type": "code",
   "execution_count": 9,
   "metadata": {},
   "outputs": [
    {
     "name": "stdout",
     "output_type": "stream",
     "text": [
      "Downloading data from https://storage.googleapis.com/tensorflow/keras-applications/vgg16/vgg16_weights_tf_dim_ordering_tf_kernels_notop.h5\n",
      "58892288/58889256 [==============================] - 15s 0us/step\n",
      "Found 2741 images belonging to 5 classes.\n",
      "Found 929 images belonging to 5 classes.\n"
     ]
    },
    {
     "name": "stderr",
     "output_type": "stream",
     "text": [
      "D:\\Anaconda\\lib\\site-packages\\tensorflow\\python\\keras\\engine\\training.py:1847: UserWarning: `Model.fit_generator` is deprecated and will be removed in a future version. Please use `Model.fit`, which supports generators.\n",
      "  warnings.warn('`Model.fit_generator` is deprecated and '\n"
     ]
    },
    {
     "name": "stdout",
     "output_type": "stream",
     "text": [
      "Epoch 1/10\n",
      "43/43 [==============================] - 466s 11s/step - loss: 10.2520 - accuracy: 0.5128 - val_loss: 0.6825 - val_accuracy: 0.7610\n",
      "Epoch 2/10\n",
      "43/43 [==============================] - 433s 10s/step - loss: 0.4839 - accuracy: 0.8224 - val_loss: 0.6276 - val_accuracy: 0.8041\n",
      "Epoch 3/10\n",
      "43/43 [==============================] - 434s 10s/step - loss: 0.2507 - accuracy: 0.9095 - val_loss: 0.5843 - val_accuracy: 0.8321\n",
      "Epoch 4/10\n",
      "43/43 [==============================] - 437s 10s/step - loss: 0.1057 - accuracy: 0.9606 - val_loss: 0.6732 - val_accuracy: 0.8364\n",
      "Epoch 5/10\n",
      "43/43 [==============================] - 441s 10s/step - loss: 0.0651 - accuracy: 0.9742 - val_loss: 0.6680 - val_accuracy: 0.8439\n",
      "Epoch 6/10\n",
      "43/43 [==============================] - 424s 10s/step - loss: 0.0462 - accuracy: 0.9832 - val_loss: 0.6937 - val_accuracy: 0.8439\n",
      "Epoch 7/10\n",
      "43/43 [==============================] - 424s 10s/step - loss: 0.0392 - accuracy: 0.9843 - val_loss: 0.7309 - val_accuracy: 0.8439\n",
      "Epoch 8/10\n",
      "43/43 [==============================] - 422s 10s/step - loss: 0.0214 - accuracy: 0.9910 - val_loss: 0.7545 - val_accuracy: 0.8461\n",
      "Epoch 9/10\n",
      "43/43 [==============================] - 423s 10s/step - loss: 0.0224 - accuracy: 0.9894 - val_loss: 0.7767 - val_accuracy: 0.8418\n",
      "Epoch 10/10\n",
      "43/43 [==============================] - 423s 10s/step - loss: 0.0226 - accuracy: 0.9882 - val_loss: 0.8022 - val_accuracy: 0.8439\n"
     ]
    },
    {
     "name": "stderr",
     "output_type": "stream",
     "text": [
      "D:\\Anaconda\\lib\\site-packages\\tensorflow\\python\\keras\\engine\\training.py:1880: UserWarning: `Model.evaluate_generator` is deprecated and will be removed in a future version. Please use `Model.evaluate`, which supports generators.\n",
      "  warnings.warn('`Model.evaluate_generator` is deprecated and '\n"
     ]
    },
    {
     "name": "stdout",
     "output_type": "stream",
     "text": [
      ">84.392\n"
     ]
    },
    {
     "data": {
      "image/png": "[encoded data removed]",
      "text/plain": [
       "<Figure size 432x288 with 2 Axes>"
      ]
     },
     "metadata": {
      "needs_background": "light"
     },
     "output_type": "display_data"
    },
    {
     "name": "stderr",
     "output_type": "stream",
     "text": [
      "D:\\Anaconda\\lib\\site-packages\\tensorflow\\python\\keras\\engine\\training.py:2342: UserWarning: `Model.state_updates` will be removed in a future version. This property should not be used in TensorFlow 2.0, as `updates` are applied automatically.\n",
      "  warnings.warn('`Model.state_updates` will be removed in a future version. '\n",
      "D:\\Anaconda\\lib\\site-packages\\tensorflow\\python\\keras\\engine\\base_layer.py:1395: UserWarning: `layer.updates` will be removed in a future version. This property should not be used in TensorFlow 2.0, as `updates` are applied automatically.\n",
      "  warnings.warn('`layer.updates` will be removed in a future version. '\n"
     ]
    },
    {
     "name": "stdout",
     "output_type": "stream",
     "text": [
      "INFO:tensorflow:Assets written to: C:\\Users\\metec\\AppData\\Local\\Temp\\tmpx1d0ax9w\\assets\n"
     ]
    }
   ],
   "source": [
    "run_model_vgg16()"
   ]
  },
  {
   "cell_type": "code",
   "execution_count": null,
   "metadata": {},
   "outputs": [],
   "source": []
  }
 ],
 "metadata": {
  "kernelspec": {
   "display_name": "Python 3",
   "language": "python",
   "name": "python3"
  },
  "language_info": {
   "codemirror_mode": {
    "name": "ipython",
    "version": 3
   },
   "file_extension": ".py",
   "mimetype": "text/x-python",
   "name": "python",
   "nbconvert_exporter": "python",
   "pygments_lexer": "ipython3",
   "version": "3.8.3"
  }
 },
 "nbformat": 4,
 "nbformat_minor": 4
}
